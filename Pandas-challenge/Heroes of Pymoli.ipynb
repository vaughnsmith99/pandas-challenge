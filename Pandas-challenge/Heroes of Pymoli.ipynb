{
 "cells": [
  {
   "cell_type": "code",
   "execution_count": 2,
   "metadata": {},
   "outputs": [],
   "source": [
    "import pandas as pd\n",
    "import numpy as np\n",
    "import matplotlib.pyplot as plt\n",
    "import os"
   ]
  },
  {
   "cell_type": "code",
   "execution_count": 3,
   "metadata": {},
   "outputs": [
    {
     "name": "stdout",
     "output_type": "stream",
     "text": [
      "..\\Pandas-challenge\\Resources\\purchase_data.csv\n"
     ]
    }
   ],
   "source": [
    "file = os.path.join('..','Pandas-challenge','Resources','purchase_data.csv')\n",
    "#file = '../Resources/purchase_data.csv'\n",
    "print(file)"
   ]
  },
  {
   "cell_type": "code",
   "execution_count": 4,
   "metadata": {},
   "outputs": [],
   "source": [
    "df = pd.read_csv(file, low_memory = False)\n",
    "#df.tail()"
   ]
  },
  {
   "cell_type": "code",
   "execution_count": 5,
   "metadata": {},
   "outputs": [
    {
     "name": "stdout",
     "output_type": "stream",
     "text": [
      "Player Count: 779\n"
     ]
    }
   ],
   "source": [
    "# sorting by SN\n",
    "unique_players = df\n",
    "unique_players = unique_players.sort_values([\"SN\"])\n",
    "unique_players = unique_players.groupby(['SN','Age','Gender','Price'],as_index=False)['Item Name'].agg(lambda x: ', '.join(set(x)))\n",
    "unique_player_count = unique_players['SN'].count()\n",
    "print(f'Player Count: {unique_player_count}')"
   ]
  },
  {
   "cell_type": "code",
   "execution_count": 6,
   "metadata": {},
   "outputs": [
    {
     "name": "stdout",
     "output_type": "stream",
     "text": [
      "Unique Item Count: 1013\n",
      "Average Purchase Price: $3.050987179487176\n",
      "Total Number of Purchases: 780\n",
      "Total Revenue: $2379.77\n"
     ]
    }
   ],
   "source": [
    "# Purchasing Analysis (Total)\n",
    "\n",
    "# Number of Unique Items\n",
    "unique_item_count = 0\n",
    "for items in df['Item Name']:\n",
    "    item = items.split(', ')\n",
    "    unique_item_count += len(item)\n",
    "print(f'Unique Item Count: {unique_item_count}')\n",
    "\n",
    "# Average Purchase Price\n",
    "average_purchase_price = df['Price'].mean()\n",
    "print(f'Average Purchase Price: ${average_purchase_price}')\n",
    "\n",
    "# Total Number of Purchases\n",
    "total_number_of_purchases = df['Price'].count()\n",
    "print(f'Total Number of Purchases: {total_number_of_purchases}')\n",
    "\n",
    "# Total Revenue\n",
    "total_revenue = df['Price'].sum()\n",
    "print(f'Total Revenue: ${total_revenue}')"
   ]
  },
  {
   "cell_type": "code",
   "execution_count": 7,
   "metadata": {},
   "outputs": [
    {
     "name": "stdout",
     "output_type": "stream",
     "text": [
      "# Male: 651\n",
      "% Male: 83.56867779204109\n",
      "# Female: 113\n",
      "% Female: 14.505776636713735\n",
      "# Other: 15\n",
      "% Other: 1.9255455712451863\n"
     ]
    }
   ],
   "source": [
    "# Gender Demographics\n",
    "\n",
    "# Percentage and Count of Male Players\n",
    "male_players = unique_players.loc[unique_players['Gender'] == 'Male']\n",
    "count_of_male_players = len(male_players.index)\n",
    "percent_male_players = (count_of_male_players/unique_player_count)*100\n",
    "print(f'# Male: {count_of_male_players}')\n",
    "print(f'% Male: {percent_male_players}')\n",
    "# Percentage and Count of Female Players\n",
    "female_players = unique_players.loc[unique_players['Gender'] == 'Female']\n",
    "count_of_female_players = len(female_players.index)\n",
    "percent_female_players = (count_of_female_players/unique_player_count)*100\n",
    "print(f'# Female: {count_of_female_players}')\n",
    "print(f'% Female: {percent_female_players}')\n",
    "# Percentage and Count of Other / Non-Disclosed\n",
    "other_players = unique_players.loc[(unique_players['Gender'] != 'Female') & (unique_players['Gender'] != 'Male')]\n",
    "count_of_other_players = len(other_players.index)\n",
    "percent_other_players = (count_of_other_players/unique_player_count)*100\n",
    "print(f'# Other: {count_of_other_players}')\n",
    "print(f'% Other: {percent_other_players}')"
   ]
  },
  {
   "cell_type": "code",
   "execution_count": 8,
   "metadata": {},
   "outputs": [
    {
     "name": "stdout",
     "output_type": "stream",
     "text": [
      "Count of Female Purchases: 113\n",
      "Count of Male Purchases: 651\n",
      "Count of Other Purchases: 15\n",
      "Average of Female Purchase Price: $3.203008849557522\n",
      "Average of Male Purchase Price: $3.0186789554531517\n",
      "Average of Other Purchase Price: $3.3460000000000005\n",
      "Sum of Female Purchase Price: $361.94\n",
      "Sum of Male Purchase Price: $1965.1600000000003\n",
      "Sum of Other Purchase Price: $50.190000000000005\n"
     ]
    }
   ],
   "source": [
    "# Purchasing Analysis (Gender)\n",
    "\n",
    "# The below each broken by gender\n",
    "\n",
    "# Purchase Count\n",
    "count_of_female_player_purchases = female_players['Price'].count()\n",
    "print(f'Count of Female Purchases: {count_of_female_player_purchases}')\n",
    "count_of_male_player_purchases = male_players['Price'].count()\n",
    "print(f'Count of Male Purchases: {count_of_male_player_purchases}')\n",
    "count_of_other_player_purchases = other_players['Price'].count()\n",
    "print(f'Count of Other Purchases: {count_of_other_player_purchases}')\n",
    "# Average Purchase Price\n",
    "avg_female_player_pur_price = female_players['Price'].mean()\n",
    "print(f'Average of Female Purchase Price: ${avg_female_player_pur_price}')\n",
    "avg_male_player_pur_price = male_players['Price'].mean()\n",
    "print(f'Average of Male Purchase Price: ${avg_male_player_pur_price}')\n",
    "avg_other_player_pur_price = other_players['Price'].mean()\n",
    "print(f'Average of Other Purchase Price: ${avg_other_player_pur_price}')\n",
    "# Total Purchase Value\n",
    "sum_female_player_pur_price = female_players['Price'].sum()\n",
    "print(f'Sum of Female Purchase Price: ${sum_female_player_pur_price}')\n",
    "sum_male_player_pur_price = male_players['Price'].sum()\n",
    "print(f'Sum of Male Purchase Price: ${sum_male_player_pur_price}')\n",
    "sum_other_player_pur_price = other_players['Price'].sum()\n",
    "print(f'Sum of Other Purchase Price: ${sum_other_player_pur_price}')\n",
    "# Average Purchase Total per Person by Gender"
   ]
  },
  {
   "cell_type": "code",
   "execution_count": 9,
   "metadata": {},
   "outputs": [
    {
     "name": "stdout",
     "output_type": "stream",
     "text": [
      "               SN  Age  Gender  Price  \\\n",
      "70   Anallorgue57    8    Male   1.61   \n",
      "71   Anallorgue57    8    Male   4.09   \n",
      "114    Chadjask77    8    Male   4.93   \n",
      "173  Chanossast57    7  Female   4.32   \n",
      "209  Eurithphos97    9    Male   2.05   \n",
      "\n",
      "                                     Item Name  \n",
      "70                                      Demise  \n",
      "71                            Faith's Scimitar  \n",
      "114          Hellreaver, Heirloom of Inception  \n",
      "173  Stormbringer, Dark Blade of Ending Misery  \n",
      "209                          Vengeance Cleaver  \n",
      "Statistics for Ages:\n",
      "\n",
      "Purchase Count >10: 23\n",
      "Purchase Count 10 to 14: 28\n",
      "Purchase Count 15 to 19: 135\n",
      "Purchase Count 19<: 593\n",
      "\n",
      "-----------------------------------\n",
      "\n",
      "Purchase Average >10: $3.3534782608695655\n",
      "Purchase Average 10 to 14: $2.9564285714285714\n",
      "Purchase Average 15 to 19: $3.0400740740740733\n",
      "Purchase Average 19<: $3.047166947723441\n",
      "\n",
      "Purchase Sum >10: $77.13000000000001\n",
      "Purchase Sum 10 to 14: $82.78\n",
      "Purchase Sum 15 to 19: $410.4100000000001\n",
      "Purchase Sum 19<: $1806.9700000000003\n"
     ]
    }
   ],
   "source": [
    "# Age Demographics\n",
    "\n",
    "# The below each broken into bins of 4 years (i.e. <10, 10-14, 15-19, etc.)\n",
    "below_10 = unique_players.loc[unique_players['Age'] < 10]\n",
    "_10_to_14 = unique_players.loc[(unique_players['Age'] > 9) & (unique_players['Age'] < 15)]\n",
    "_15_to_19 = unique_players.loc[(unique_players['Age'] > 14) & (unique_players['Age'] < 20)]\n",
    "above_19 = unique_players.loc[unique_players['Age'] > 19]\n",
    "print(below_10.head())\n",
    "print('Statistics for Ages:')\n",
    "print('')\n",
    "# Purchase Count\n",
    "purchase_count_below_10 = below_10['Price'].count()\n",
    "purchase_count_10_to_14 = _10_to_14['Price'].count()\n",
    "purchase_count_15_to_19 = _15_to_19['Price'].count()\n",
    "purchase_count_above_19 = above_19['Price'].count()\n",
    "print(f'Purchase Count >10: {purchase_count_below_10}')\n",
    "print(f'Purchase Count 10 to 14: {purchase_count_10_to_14}')\n",
    "print(f'Purchase Count 15 to 19: {purchase_count_15_to_19}')\n",
    "print(f'Purchase Count 19<: {purchase_count_above_19}')\n",
    "print('')\n",
    "print('-----------------------------------')\n",
    "print('')\n",
    "# Average Purchase Price\n",
    "purchase_average_below_10 = below_10['Price'].mean()\n",
    "purchase_average_10_to_14 = _10_to_14['Price'].mean()\n",
    "purchase_average_15_to_19 = _15_to_19['Price'].mean()\n",
    "purchase_average_above_19 = above_19['Price'].mean()\n",
    "print(f'Purchase Average >10: ${purchase_average_below_10}')\n",
    "print(f'Purchase Average 10 to 14: ${purchase_average_10_to_14}')\n",
    "print(f'Purchase Average 15 to 19: ${purchase_average_15_to_19}')\n",
    "print(f'Purchase Average 19<: ${purchase_average_above_19}')\n",
    "print('')\n",
    "# Total Purchase Value\n",
    "purchase_sum_below_10 = below_10['Price'].sum()\n",
    "purchase_sum_10_to_14 = _10_to_14['Price'].sum()\n",
    "purchase_sum_15_to_19 = _15_to_19['Price'].sum()\n",
    "purchase_sum_above_19 = above_19['Price'].sum()\n",
    "print(f'Purchase Sum >10: ${purchase_sum_below_10}')\n",
    "print(f'Purchase Sum 10 to 14: ${purchase_sum_10_to_14}')\n",
    "print(f'Purchase Sum 15 to 19: ${purchase_sum_15_to_19}')\n",
    "print(f'Purchase Sum 19<: ${purchase_sum_above_19}')\n",
    "# Average Purchase Total per Person by Age Group"
   ]
  },
  {
   "cell_type": "code",
   "execution_count": 10,
   "metadata": {},
   "outputs": [
    {
     "name": "stdout",
     "output_type": "stream",
     "text": [
      "Top 5 Values for Each Criteria:\n",
      "            SN  Purchase Count  Average Purchase Price  Total Purchase Value\n",
      "0    Lisosia93               5                    4.99                  4.99\n",
      "1  Idastidru52               4                    4.94                  4.99\n",
      "2   Chamjask73               4                    4.94                  4.94\n",
      "3       Iral74               3                    4.94                  4.94\n",
      "4  Iskadarya95               3                    4.94                  4.94\n"
     ]
    }
   ],
   "source": [
    "# Top Spenders\n",
    "\n",
    "# Identify the the top 5 spenders in the game by total purchase value, then list (in a table):\n",
    "# SN\n",
    "spenders = df.groupby(['SN'],as_index=False)['Price'].sum()\n",
    "spenders = spenders.sort_values(['Price'], ascending=False,ignore_index=True)\n",
    "\n",
    "\n",
    "# Purchase Count\n",
    "top_5_count = df.groupby(['SN'],as_index=False)['Price'].count()\n",
    "top_5_count = top_5_count.sort_values(by=['Price'],ascending=False,ignore_index=True)\n",
    "\n",
    "# Average Purchase Price\n",
    "top_5_avg = df.groupby(['SN'],as_index=False)['Price'].mean()\n",
    "top_5_avg = top_5_avg.sort_values(by=['Price'],ascending=False,ignore_index=True)\n",
    "# Total Purchase Value\n",
    "top_val_purch = df.sort_values(by=['Price'],ascending=False,ignore_index=True)\n",
    "\n",
    "top5 = {'SN': [spenders['SN'][0], spenders['SN'][1],spenders['SN'][2],spenders['SN'][3],spenders['SN'][4]],\n",
    "        'Purchase Count': [top_5_count['Price'][0], top_5_count['Price'][1],top_5_count['Price'][2],top_5_count['Price'][3],top_5_count['Price'][4]],\n",
    "        'Average Purchase Price' : [top_5_avg['Price'][0], top_5_avg['Price'][1],top_5_avg['Price'][2],top_5_avg['Price'][3],top_5_avg['Price'][4]],\n",
    "        'Total Purchase Value' : [top_val_purch['Price'][0],top_val_purch['Price'][1],top_val_purch['Price'][2],top_val_purch['Price'][3],top_val_purch['Price'][4]]\n",
    "       }\n",
    "top5df = pd.DataFrame(data=top5)\n",
    "print(\"Top 5 Values for Each Criteria:\")\n",
    "print(top5df)"
   ]
  },
  {
   "cell_type": "code",
   "execution_count": 13,
   "metadata": {},
   "outputs": [
    {
     "ename": "TypeError",
     "evalue": "'method' object is not subscriptable",
     "output_type": "error",
     "traceback": [
      "\u001b[1;31m---------------------------------------------------------------------------\u001b[0m",
      "\u001b[1;31mTypeError\u001b[0m                                 Traceback (most recent call last)",
      "\u001b[1;32m<ipython-input-13-2b4d1b3264d7>\u001b[0m in \u001b[0;36m<module>\u001b[1;34m\u001b[0m\n\u001b[0;32m      1\u001b[0m \u001b[1;31m# Most Popular Items\u001b[0m\u001b[1;33m\u001b[0m\u001b[1;33m\u001b[0m\u001b[1;33m\u001b[0m\u001b[0m\n\u001b[0;32m      2\u001b[0m \u001b[1;31m# Identify the 5 most popular items by purchase count, then list (in a table):\u001b[0m\u001b[1;33m\u001b[0m\u001b[1;33m\u001b[0m\u001b[1;33m\u001b[0m\u001b[0m\n\u001b[1;32m----> 3\u001b[1;33m \u001b[0mitems\u001b[0m \u001b[1;33m=\u001b[0m \u001b[0mdf\u001b[0m\u001b[1;33m.\u001b[0m\u001b[0mgroupby\u001b[0m\u001b[1;33m[\u001b[0m\u001b[1;34m'Item ID'\u001b[0m\u001b[1;33m,\u001b[0m \u001b[1;34m'Item Name'\u001b[0m\u001b[1;33m,\u001b[0m\u001b[1;34m'Purchase ID'\u001b[0m\u001b[1;33m,\u001b[0m \u001b[1;34m'Price'\u001b[0m\u001b[1;33m]\u001b[0m\u001b[1;33m\u001b[0m\u001b[1;33m\u001b[0m\u001b[0m\n\u001b[0m\u001b[0;32m      4\u001b[0m \u001b[0mitem_name\u001b[0m \u001b[1;33m=\u001b[0m \u001b[0mitems\u001b[0m\u001b[1;33m.\u001b[0m\u001b[0mgroupby\u001b[0m\u001b[1;33m[\u001b[0m\u001b[0mitems\u001b[0m\u001b[1;33m[\u001b[0m\u001b[1;34m'Item Name'\u001b[0m\u001b[1;33m]\u001b[0m\u001b[1;33m]\u001b[0m\u001b[1;33m\u001b[0m\u001b[1;33m\u001b[0m\u001b[0m\n\u001b[0;32m      5\u001b[0m \u001b[0mpur_count\u001b[0m \u001b[1;33m=\u001b[0m \u001b[0mitems\u001b[0m\u001b[1;33m.\u001b[0m\u001b[0mgroupby\u001b[0m\u001b[1;33m[\u001b[0m\u001b[0mitems\u001b[0m\u001b[1;33m[\u001b[0m\u001b[1;34m'ID'\u001b[0m\u001b[1;33m]\u001b[0m\u001b[1;33m]\u001b[0m\u001b[1;33m[\u001b[0m\u001b[1;34m'Price'\u001b[0m\u001b[1;33m]\u001b[0m\u001b[1;33m.\u001b[0m\u001b[0mcount\u001b[0m\u001b[1;33m(\u001b[0m\u001b[1;33m)\u001b[0m\u001b[1;33m\u001b[0m\u001b[1;33m\u001b[0m\u001b[0m\n",
      "\u001b[1;31mTypeError\u001b[0m: 'method' object is not subscriptable"
     ]
    }
   ],
   "source": [
    "# Most Popular Items\n",
    "# Identify the 5 most popular items by purchase count, then list (in a table):\n",
    "items = df.groupby['Item ID', 'Item Name','Purchase ID', 'Price']\n",
    "item_name = items.groupby[items['Item Name']]\n",
    "pur_count = items.groupby[items['ID']]['Price'].count()\n",
    "item_price = items.groupby[items['ID']]\n",
    "pur_val = items.groupby[items['ID']]['Price'].sum()\n",
    "all_items_purchased_list = []\n",
    "items_purchased_list = []\n",
    "\n",
    "for items in df['Item Name']:\n",
    "    item = items.split(', ')\n",
    "    all_items_purchased_list += item\n",
    "\n",
    "#print(all_items_purchased_list)\n",
    "\n",
    "items_purchased_list.append(all_items_purchased_list[0])\n",
    "print(items_purchased_list)\n",
    "for x in all_items_purchased_list:\n",
    "    for y in items_purchased_list:\n",
    "        if x != y:\n",
    "            items_purchased_list.append(y)\n",
    "# Item ID\n",
    "# Item Name\n",
    "# Purchase Count\n",
    "# Item Price\n",
    "# Total Purchase Value"
   ]
  },
  {
   "cell_type": "code",
   "execution_count": null,
   "metadata": {},
   "outputs": [],
   "source": [
    "# Most Profitable Items\n",
    "\n",
    "# Identify the 5 most profitable items by total purchase value, then list (in a table):\n",
    "\n",
    "# Item ID\n",
    "# Item Name\n",
    "# Purchase Count\n",
    "# Item Price\n",
    "# Total Purchase Value"
   ]
  },
  {
   "cell_type": "code",
   "execution_count": null,
   "metadata": {},
   "outputs": [],
   "source": []
  },
  {
   "cell_type": "code",
   "execution_count": null,
   "metadata": {},
   "outputs": [],
   "source": []
  }
 ],
 "metadata": {
  "kernelspec": {
   "display_name": "Python 3",
   "language": "python",
   "name": "python3"
  },
  "language_info": {
   "codemirror_mode": {
    "name": "ipython",
    "version": 3
   },
   "file_extension": ".py",
   "mimetype": "text/x-python",
   "name": "python",
   "nbconvert_exporter": "python",
   "pygments_lexer": "ipython3",
   "version": "3.8.5"
  }
 },
 "nbformat": 4,
 "nbformat_minor": 4
}
